{
 "cells": [
  {
   "cell_type": "markdown",
   "id": "d103db06",
   "metadata": {},
   "source": [
    "## SVM, MLP and CNN"
   ]
  },
  {
   "cell_type": "code",
   "execution_count": 1,
   "id": "fae10bfa",
   "metadata": {},
   "outputs": [],
   "source": [
    "import pyreadr\n",
    "import xarray\n",
    "mnist = pyreadr.read_r(\"mnist.RData\")"
   ]
  },
  {
   "cell_type": "code",
   "execution_count": 2,
   "id": "151d5eb1",
   "metadata": {},
   "outputs": [],
   "source": [
    "import numpy as np\n",
    "x_train = np.array(mnist['x_train'])\n",
    "x_test = np.array(mnist['x_test'])\n",
    "y_train = np.array(mnist['y_train'])\n",
    "y_test = np.array(mnist['y_test'])"
   ]
  },
  {
   "cell_type": "code",
   "execution_count": 3,
   "id": "fe820f06",
   "metadata": {},
   "outputs": [],
   "source": [
    "# rescale\n",
    "x_train = x_train/255.0\n",
    "x_test = x_test/255.0\n",
    "# reshape\n",
    "x_train = x_train.reshape((10000, 28*28))\n",
    "x_test = x_test.reshape((60000, 28*28))\n",
    "y_train = y_train.reshape((10000,))\n",
    "y_test = y_test.reshape((60000,))"
   ]
  },
  {
   "cell_type": "markdown",
   "id": "29b457d7",
   "metadata": {},
   "source": [
    "### 1. SVM"
   ]
  },
  {
   "cell_type": "code",
   "execution_count": 4,
   "id": "d97ef5cd",
   "metadata": {},
   "outputs": [],
   "source": [
    "from sklearn import svm\n",
    "from sklearn.model_selection import cross_val_score\n",
    "from sklearn.model_selection import train_test_split\n",
    "from sklearn.model_selection import GridSearchCV"
   ]
  },
  {
   "cell_type": "code",
   "execution_count": 5,
   "id": "a5938633",
   "metadata": {},
   "outputs": [],
   "source": [
    "# pick 10% data from train and test\n",
    "# to make the size of every class balanced, use stratified split in train_test_split\n",
    "\n",
    "# training data\n",
    "x_train_small, xt, y_train_small, yt = train_test_split(x_train, y_train, test_size=0.9, \n",
    "                                                        shuffle=True, stratify=y_train, random_state=503)\n",
    "\n",
    "# test data\n",
    "x_test_small, xt, y_test_small, yt = train_test_split(x_test, y_test, test_size=0.9, \n",
    "                                                      shuffle=True, stratify=y_test, random_state=503)"
   ]
  },
  {
   "cell_type": "markdown",
   "id": "13cc332d",
   "metadata": {},
   "source": [
    "#### Linear Kernel"
   ]
  },
  {
   "cell_type": "code",
   "execution_count": 6,
   "id": "c7a94b37",
   "metadata": {},
   "outputs": [],
   "source": [
    "C_range = np.array([0.001, 0.01, 0.1, 1, 10, 100])\n",
    "gamma_range = np.array([0.0001, 0.001, 0.01, 0.1, 1, 10, 100])\n",
    "parameters = {'C': C_range, 'gamma':gamma_range}"
   ]
  },
  {
   "cell_type": "code",
   "execution_count": 7,
   "id": "42e8e379",
   "metadata": {},
   "outputs": [
    {
     "name": "stdout",
     "output_type": "stream",
     "text": [
      "Fitting 5 folds for each of 42 candidates, totalling 210 fits\n"
     ]
    },
    {
     "data": {
      "text/plain": [
       "GridSearchCV(estimator=SVC(kernel='linear'), n_jobs=10,\n",
       "             param_grid={'C': array([1.e-03, 1.e-02, 1.e-01, 1.e+00, 1.e+01, 1.e+02]),\n",
       "                         'gamma': array([1.e-04, 1.e-03, 1.e-02, 1.e-01, 1.e+00, 1.e+01, 1.e+02])},\n",
       "             verbose=1)"
      ]
     },
     "execution_count": 7,
     "metadata": {},
     "output_type": "execute_result"
    }
   ],
   "source": [
    "svm_linear = svm.SVC(kernel='linear')\n",
    "grid_linear = GridSearchCV(estimator=svm_linear, param_grid=parameters, n_jobs = 10, verbose = 1)\n",
    "grid_linear.fit(x_train_small, y_train_small)"
   ]
  },
  {
   "cell_type": "code",
   "execution_count": 8,
   "id": "4394f660",
   "metadata": {},
   "outputs": [
    {
     "data": {
      "text/html": [
       "<div>\n",
       "<style scoped>\n",
       "    .dataframe tbody tr th:only-of-type {\n",
       "        vertical-align: middle;\n",
       "    }\n",
       "\n",
       "    .dataframe tbody tr th {\n",
       "        vertical-align: top;\n",
       "    }\n",
       "\n",
       "    .dataframe thead th {\n",
       "        text-align: right;\n",
       "    }\n",
       "</style>\n",
       "<table border=\"1\" class=\"dataframe\">\n",
       "  <thead>\n",
       "    <tr style=\"text-align: right;\">\n",
       "      <th></th>\n",
       "      <th>0</th>\n",
       "      <th>1</th>\n",
       "      <th>2</th>\n",
       "      <th>3</th>\n",
       "      <th>4</th>\n",
       "      <th>5</th>\n",
       "      <th>6</th>\n",
       "      <th>7</th>\n",
       "      <th>8</th>\n",
       "      <th>9</th>\n",
       "      <th>...</th>\n",
       "      <th>32</th>\n",
       "      <th>33</th>\n",
       "      <th>34</th>\n",
       "      <th>35</th>\n",
       "      <th>36</th>\n",
       "      <th>37</th>\n",
       "      <th>38</th>\n",
       "      <th>39</th>\n",
       "      <th>40</th>\n",
       "      <th>41</th>\n",
       "    </tr>\n",
       "  </thead>\n",
       "  <tbody>\n",
       "    <tr>\n",
       "      <th>C</th>\n",
       "      <td>0.0010</td>\n",
       "      <td>0.001</td>\n",
       "      <td>0.001</td>\n",
       "      <td>0.001</td>\n",
       "      <td>0.001</td>\n",
       "      <td>0.001</td>\n",
       "      <td>0.001</td>\n",
       "      <td>0.0100</td>\n",
       "      <td>0.010</td>\n",
       "      <td>0.010</td>\n",
       "      <td>...</td>\n",
       "      <td>10.000</td>\n",
       "      <td>10.000</td>\n",
       "      <td>10.000</td>\n",
       "      <td>100.0000</td>\n",
       "      <td>100.000</td>\n",
       "      <td>100.000</td>\n",
       "      <td>100.000</td>\n",
       "      <td>100.000</td>\n",
       "      <td>100.000</td>\n",
       "      <td>100.000</td>\n",
       "    </tr>\n",
       "    <tr>\n",
       "      <th>gamma</th>\n",
       "      <td>0.0001</td>\n",
       "      <td>0.001</td>\n",
       "      <td>0.010</td>\n",
       "      <td>0.100</td>\n",
       "      <td>1.000</td>\n",
       "      <td>10.000</td>\n",
       "      <td>100.000</td>\n",
       "      <td>0.0001</td>\n",
       "      <td>0.001</td>\n",
       "      <td>0.010</td>\n",
       "      <td>...</td>\n",
       "      <td>1.000</td>\n",
       "      <td>10.000</td>\n",
       "      <td>100.000</td>\n",
       "      <td>0.0001</td>\n",
       "      <td>0.001</td>\n",
       "      <td>0.010</td>\n",
       "      <td>0.100</td>\n",
       "      <td>1.000</td>\n",
       "      <td>10.000</td>\n",
       "      <td>100.000</td>\n",
       "    </tr>\n",
       "    <tr>\n",
       "      <th>cv_accuracy</th>\n",
       "      <td>0.7270</td>\n",
       "      <td>0.727</td>\n",
       "      <td>0.727</td>\n",
       "      <td>0.727</td>\n",
       "      <td>0.727</td>\n",
       "      <td>0.727</td>\n",
       "      <td>0.727</td>\n",
       "      <td>0.8750</td>\n",
       "      <td>0.875</td>\n",
       "      <td>0.875</td>\n",
       "      <td>...</td>\n",
       "      <td>0.877</td>\n",
       "      <td>0.877</td>\n",
       "      <td>0.877</td>\n",
       "      <td>0.8770</td>\n",
       "      <td>0.877</td>\n",
       "      <td>0.877</td>\n",
       "      <td>0.877</td>\n",
       "      <td>0.877</td>\n",
       "      <td>0.877</td>\n",
       "      <td>0.877</td>\n",
       "    </tr>\n",
       "  </tbody>\n",
       "</table>\n",
       "<p>3 rows × 42 columns</p>\n",
       "</div>"
      ],
      "text/plain": [
       "                 0      1      2      3      4       5        6       7   \\\n",
       "C            0.0010  0.001  0.001  0.001  0.001   0.001    0.001  0.0100   \n",
       "gamma        0.0001  0.001  0.010  0.100  1.000  10.000  100.000  0.0001   \n",
       "cv_accuracy  0.7270  0.727  0.727  0.727  0.727   0.727    0.727  0.8750   \n",
       "\n",
       "                8      9   ...      32      33       34        35       36  \\\n",
       "C            0.010  0.010  ...  10.000  10.000   10.000  100.0000  100.000   \n",
       "gamma        0.001  0.010  ...   1.000  10.000  100.000    0.0001    0.001   \n",
       "cv_accuracy  0.875  0.875  ...   0.877   0.877    0.877    0.8770    0.877   \n",
       "\n",
       "                  37       38       39       40       41  \n",
       "C            100.000  100.000  100.000  100.000  100.000  \n",
       "gamma          0.010    0.100    1.000   10.000  100.000  \n",
       "cv_accuracy    0.877    0.877    0.877    0.877    0.877  \n",
       "\n",
       "[3 rows x 42 columns]"
      ]
     },
     "execution_count": 8,
     "metadata": {},
     "output_type": "execute_result"
    }
   ],
   "source": [
    "import pandas as pd\n",
    "res = pd.DataFrame(grid_linear.cv_results_['params'])\n",
    "res['cv_accuracy'] = grid_linear.cv_results_['mean_test_score']\n",
    "res.transpose()"
   ]
  },
  {
   "cell_type": "code",
   "execution_count": 9,
   "id": "85f1c138",
   "metadata": {},
   "outputs": [
    {
     "data": {
      "text/plain": [
       "{'C': 0.1, 'gamma': 0.0001}"
      ]
     },
     "execution_count": 9,
     "metadata": {},
     "output_type": "execute_result"
    }
   ],
   "source": [
    "grid_linear.best_params_"
   ]
  },
  {
   "cell_type": "code",
   "execution_count": 10,
   "id": "1252c13a",
   "metadata": {},
   "outputs": [
    {
     "data": {
      "text/plain": [
       "0.8779999999999999"
      ]
     },
     "execution_count": 10,
     "metadata": {},
     "output_type": "execute_result"
    }
   ],
   "source": [
    "grid_linear.best_score_"
   ]
  },
  {
   "cell_type": "markdown",
   "id": "30ef8927",
   "metadata": {},
   "source": [
    "The best SVM with linear kernel achieves 0.8780 accuracy and the corresponding parameters are `C = 0.1` and `gamma = 0.0001`."
   ]
  },
  {
   "cell_type": "code",
   "execution_count": 11,
   "id": "bd618fb7",
   "metadata": {},
   "outputs": [
    {
     "data": {
      "text/plain": [
       "0.11233333333333333"
      ]
     },
     "execution_count": 11,
     "metadata": {},
     "output_type": "execute_result"
    }
   ],
   "source": [
    "svm_linear_best = grid_linear.best_estimator_\n",
    "y_pred = svm_linear_best.predict(x_test_small)\n",
    "svm_linear_error = np.mean(y_pred!=y_test_small)\n",
    "svm_linear_error"
   ]
  },
  {
   "cell_type": "markdown",
   "id": "44690aba",
   "metadata": {},
   "source": [
    "The test error of the best linear kernel SVM is 0.1123."
   ]
  },
  {
   "cell_type": "markdown",
   "id": "7ec4b71e",
   "metadata": {},
   "source": [
    "#### Radial Kernel"
   ]
  },
  {
   "cell_type": "code",
   "execution_count": 12,
   "id": "c350d1f0",
   "metadata": {
    "scrolled": true
   },
   "outputs": [
    {
     "name": "stdout",
     "output_type": "stream",
     "text": [
      "Fitting 5 folds for each of 42 candidates, totalling 210 fits\n"
     ]
    },
    {
     "data": {
      "text/plain": [
       "GridSearchCV(estimator=SVC(), n_jobs=10,\n",
       "             param_grid={'C': array([1.e-03, 1.e-02, 1.e-01, 1.e+00, 1.e+01, 1.e+02]),\n",
       "                         'gamma': array([1.e-04, 1.e-03, 1.e-02, 1.e-01, 1.e+00, 1.e+01, 1.e+02])},\n",
       "             verbose=1)"
      ]
     },
     "execution_count": 12,
     "metadata": {},
     "output_type": "execute_result"
    }
   ],
   "source": [
    "svm_rbf = svm.SVC(kernel='rbf')\n",
    "grid_rbf = GridSearchCV(estimator=svm_rbf, param_grid=parameters, n_jobs=10, verbose=1)\n",
    "grid_rbf.fit(x_train_small, y_train_small)"
   ]
  },
  {
   "cell_type": "code",
   "execution_count": 13,
   "id": "6b03195a",
   "metadata": {},
   "outputs": [
    {
     "data": {
      "text/html": [
       "<div>\n",
       "<style scoped>\n",
       "    .dataframe tbody tr th:only-of-type {\n",
       "        vertical-align: middle;\n",
       "    }\n",
       "\n",
       "    .dataframe tbody tr th {\n",
       "        vertical-align: top;\n",
       "    }\n",
       "\n",
       "    .dataframe thead th {\n",
       "        text-align: right;\n",
       "    }\n",
       "</style>\n",
       "<table border=\"1\" class=\"dataframe\">\n",
       "  <thead>\n",
       "    <tr style=\"text-align: right;\">\n",
       "      <th></th>\n",
       "      <th>0</th>\n",
       "      <th>1</th>\n",
       "      <th>2</th>\n",
       "      <th>3</th>\n",
       "      <th>4</th>\n",
       "      <th>5</th>\n",
       "      <th>6</th>\n",
       "      <th>7</th>\n",
       "      <th>8</th>\n",
       "      <th>9</th>\n",
       "      <th>...</th>\n",
       "      <th>32</th>\n",
       "      <th>33</th>\n",
       "      <th>34</th>\n",
       "      <th>35</th>\n",
       "      <th>36</th>\n",
       "      <th>37</th>\n",
       "      <th>38</th>\n",
       "      <th>39</th>\n",
       "      <th>40</th>\n",
       "      <th>41</th>\n",
       "    </tr>\n",
       "  </thead>\n",
       "  <tbody>\n",
       "    <tr>\n",
       "      <th>C</th>\n",
       "      <td>0.0010</td>\n",
       "      <td>0.001</td>\n",
       "      <td>0.001</td>\n",
       "      <td>0.001</td>\n",
       "      <td>0.001</td>\n",
       "      <td>0.001</td>\n",
       "      <td>0.001</td>\n",
       "      <td>0.0100</td>\n",
       "      <td>0.010</td>\n",
       "      <td>0.010</td>\n",
       "      <td>...</td>\n",
       "      <td>10.000</td>\n",
       "      <td>10.000</td>\n",
       "      <td>10.000</td>\n",
       "      <td>100.0000</td>\n",
       "      <td>100.000</td>\n",
       "      <td>100.000</td>\n",
       "      <td>100.000</td>\n",
       "      <td>100.000</td>\n",
       "      <td>100.000</td>\n",
       "      <td>100.000</td>\n",
       "    </tr>\n",
       "    <tr>\n",
       "      <th>gamma</th>\n",
       "      <td>0.0001</td>\n",
       "      <td>0.001</td>\n",
       "      <td>0.010</td>\n",
       "      <td>0.100</td>\n",
       "      <td>1.000</td>\n",
       "      <td>10.000</td>\n",
       "      <td>100.000</td>\n",
       "      <td>0.0001</td>\n",
       "      <td>0.001</td>\n",
       "      <td>0.010</td>\n",
       "      <td>...</td>\n",
       "      <td>1.000</td>\n",
       "      <td>10.000</td>\n",
       "      <td>100.000</td>\n",
       "      <td>0.0001</td>\n",
       "      <td>0.001</td>\n",
       "      <td>0.010</td>\n",
       "      <td>0.100</td>\n",
       "      <td>1.000</td>\n",
       "      <td>10.000</td>\n",
       "      <td>100.000</td>\n",
       "    </tr>\n",
       "    <tr>\n",
       "      <th>cv_accuracy</th>\n",
       "      <td>0.1140</td>\n",
       "      <td>0.114</td>\n",
       "      <td>0.114</td>\n",
       "      <td>0.114</td>\n",
       "      <td>0.114</td>\n",
       "      <td>0.114</td>\n",
       "      <td>0.114</td>\n",
       "      <td>0.1140</td>\n",
       "      <td>0.114</td>\n",
       "      <td>0.114</td>\n",
       "      <td>...</td>\n",
       "      <td>0.114</td>\n",
       "      <td>0.114</td>\n",
       "      <td>0.114</td>\n",
       "      <td>0.8790</td>\n",
       "      <td>0.889</td>\n",
       "      <td>0.917</td>\n",
       "      <td>0.697</td>\n",
       "      <td>0.114</td>\n",
       "      <td>0.114</td>\n",
       "      <td>0.114</td>\n",
       "    </tr>\n",
       "  </tbody>\n",
       "</table>\n",
       "<p>3 rows × 42 columns</p>\n",
       "</div>"
      ],
      "text/plain": [
       "                 0      1      2      3      4       5        6       7   \\\n",
       "C            0.0010  0.001  0.001  0.001  0.001   0.001    0.001  0.0100   \n",
       "gamma        0.0001  0.001  0.010  0.100  1.000  10.000  100.000  0.0001   \n",
       "cv_accuracy  0.1140  0.114  0.114  0.114  0.114   0.114    0.114  0.1140   \n",
       "\n",
       "                8      9   ...      32      33       34        35       36  \\\n",
       "C            0.010  0.010  ...  10.000  10.000   10.000  100.0000  100.000   \n",
       "gamma        0.001  0.010  ...   1.000  10.000  100.000    0.0001    0.001   \n",
       "cv_accuracy  0.114  0.114  ...   0.114   0.114    0.114    0.8790    0.889   \n",
       "\n",
       "                  37       38       39       40       41  \n",
       "C            100.000  100.000  100.000  100.000  100.000  \n",
       "gamma          0.010    0.100    1.000   10.000  100.000  \n",
       "cv_accuracy    0.917    0.697    0.114    0.114    0.114  \n",
       "\n",
       "[3 rows x 42 columns]"
      ]
     },
     "execution_count": 13,
     "metadata": {},
     "output_type": "execute_result"
    }
   ],
   "source": [
    "res = pd.DataFrame(grid_rbf.cv_results_['params'])\n",
    "res['cv_accuracy'] = grid_rbf.cv_results_['mean_test_score']\n",
    "res.transpose()"
   ]
  },
  {
   "cell_type": "code",
   "execution_count": 14,
   "id": "6d435e2e",
   "metadata": {},
   "outputs": [
    {
     "data": {
      "text/plain": [
       "{'C': 10.0, 'gamma': 0.01}"
      ]
     },
     "execution_count": 14,
     "metadata": {},
     "output_type": "execute_result"
    }
   ],
   "source": [
    "grid_rbf.best_params_"
   ]
  },
  {
   "cell_type": "code",
   "execution_count": 15,
   "id": "f9a87646",
   "metadata": {},
   "outputs": [
    {
     "data": {
      "text/plain": [
       "0.917"
      ]
     },
     "execution_count": 15,
     "metadata": {},
     "output_type": "execute_result"
    }
   ],
   "source": [
    "grid_rbf.best_score_"
   ]
  },
  {
   "cell_type": "markdown",
   "id": "bddeedd0",
   "metadata": {},
   "source": [
    "The best SVM with radial kernel achieves 0.917 accuracy and the corresponding parameters are `C = 10` and `gamma = 0.01`."
   ]
  },
  {
   "cell_type": "code",
   "execution_count": 16,
   "id": "f2f12dea",
   "metadata": {},
   "outputs": [
    {
     "data": {
      "text/plain": [
       "0.07883333333333334"
      ]
     },
     "execution_count": 16,
     "metadata": {},
     "output_type": "execute_result"
    }
   ],
   "source": [
    "svm_rbf_best = grid_rbf.best_estimator_\n",
    "y_pred = svm_rbf_best.predict(x_test_small)\n",
    "svm_rbf_error = np.mean(y_pred!=y_test_small)\n",
    "svm_rbf_error"
   ]
  },
  {
   "cell_type": "markdown",
   "id": "9063f9b4",
   "metadata": {},
   "source": [
    "The test error of the best radial kernel SVM is 0.0788."
   ]
  },
  {
   "cell_type": "markdown",
   "id": "4617e669",
   "metadata": {},
   "source": [
    "#### Polynomial Kernel"
   ]
  },
  {
   "cell_type": "code",
   "execution_count": 17,
   "id": "3348ce7b",
   "metadata": {},
   "outputs": [],
   "source": [
    "degree_range = np.array([3, 5, 7, 10])\n",
    "gamma_range_poly = np.array([0.0001, 0.001, 0.01, 0.1, 1, 10, 30])\n",
    "parameters_poly = {'C': C_range, 'gamma':gamma_range_poly, 'degree':degree_range}"
   ]
  },
  {
   "cell_type": "code",
   "execution_count": 18,
   "id": "e14552e2",
   "metadata": {},
   "outputs": [
    {
     "name": "stdout",
     "output_type": "stream",
     "text": [
      "Fitting 5 folds for each of 168 candidates, totalling 840 fits\n"
     ]
    },
    {
     "data": {
      "text/plain": [
       "GridSearchCV(estimator=SVC(kernel='poly'), n_jobs=10,\n",
       "             param_grid={'C': array([1.e-03, 1.e-02, 1.e-01, 1.e+00, 1.e+01, 1.e+02]),\n",
       "                         'degree': array([ 3,  5,  7, 10]),\n",
       "                         'gamma': array([1.e-04, 1.e-03, 1.e-02, 1.e-01, 1.e+00, 1.e+01, 3.e+01])},\n",
       "             verbose=2)"
      ]
     },
     "execution_count": 18,
     "metadata": {},
     "output_type": "execute_result"
    }
   ],
   "source": [
    "svm_poly = svm.SVC(kernel='poly')\n",
    "grid_poly = GridSearchCV(estimator=svm_poly, param_grid=parameters_poly, n_jobs=10, verbose=2)\n",
    "grid_poly.fit(x_train_small, y_train_small)"
   ]
  },
  {
   "cell_type": "code",
   "execution_count": 19,
   "id": "828377d9",
   "metadata": {},
   "outputs": [
    {
     "data": {
      "text/html": [
       "<div>\n",
       "<style scoped>\n",
       "    .dataframe tbody tr th:only-of-type {\n",
       "        vertical-align: middle;\n",
       "    }\n",
       "\n",
       "    .dataframe tbody tr th {\n",
       "        vertical-align: top;\n",
       "    }\n",
       "\n",
       "    .dataframe thead th {\n",
       "        text-align: right;\n",
       "    }\n",
       "</style>\n",
       "<table border=\"1\" class=\"dataframe\">\n",
       "  <thead>\n",
       "    <tr style=\"text-align: right;\">\n",
       "      <th></th>\n",
       "      <th>0</th>\n",
       "      <th>1</th>\n",
       "      <th>2</th>\n",
       "      <th>3</th>\n",
       "      <th>4</th>\n",
       "      <th>5</th>\n",
       "      <th>6</th>\n",
       "      <th>7</th>\n",
       "      <th>8</th>\n",
       "      <th>9</th>\n",
       "      <th>...</th>\n",
       "      <th>158</th>\n",
       "      <th>159</th>\n",
       "      <th>160</th>\n",
       "      <th>161</th>\n",
       "      <th>162</th>\n",
       "      <th>163</th>\n",
       "      <th>164</th>\n",
       "      <th>165</th>\n",
       "      <th>166</th>\n",
       "      <th>167</th>\n",
       "    </tr>\n",
       "  </thead>\n",
       "  <tbody>\n",
       "    <tr>\n",
       "      <th>C</th>\n",
       "      <td>0.0010</td>\n",
       "      <td>0.001</td>\n",
       "      <td>0.001</td>\n",
       "      <td>0.001</td>\n",
       "      <td>0.001</td>\n",
       "      <td>0.001</td>\n",
       "      <td>0.001</td>\n",
       "      <td>0.0010</td>\n",
       "      <td>0.001</td>\n",
       "      <td>0.001</td>\n",
       "      <td>...</td>\n",
       "      <td>100.000</td>\n",
       "      <td>100.000</td>\n",
       "      <td>100.000</td>\n",
       "      <td>100.0000</td>\n",
       "      <td>100.000</td>\n",
       "      <td>100.000</td>\n",
       "      <td>100.000</td>\n",
       "      <td>100.000</td>\n",
       "      <td>100.000</td>\n",
       "      <td>100.000</td>\n",
       "    </tr>\n",
       "    <tr>\n",
       "      <th>degree</th>\n",
       "      <td>3.0000</td>\n",
       "      <td>3.000</td>\n",
       "      <td>3.000</td>\n",
       "      <td>3.000</td>\n",
       "      <td>3.000</td>\n",
       "      <td>3.000</td>\n",
       "      <td>3.000</td>\n",
       "      <td>5.0000</td>\n",
       "      <td>5.000</td>\n",
       "      <td>5.000</td>\n",
       "      <td>...</td>\n",
       "      <td>7.000</td>\n",
       "      <td>7.000</td>\n",
       "      <td>7.000</td>\n",
       "      <td>10.0000</td>\n",
       "      <td>10.000</td>\n",
       "      <td>10.000</td>\n",
       "      <td>10.000</td>\n",
       "      <td>10.000</td>\n",
       "      <td>10.000</td>\n",
       "      <td>10.000</td>\n",
       "    </tr>\n",
       "    <tr>\n",
       "      <th>gamma</th>\n",
       "      <td>0.0001</td>\n",
       "      <td>0.001</td>\n",
       "      <td>0.010</td>\n",
       "      <td>0.100</td>\n",
       "      <td>1.000</td>\n",
       "      <td>10.000</td>\n",
       "      <td>30.000</td>\n",
       "      <td>0.0001</td>\n",
       "      <td>0.001</td>\n",
       "      <td>0.010</td>\n",
       "      <td>...</td>\n",
       "      <td>1.000</td>\n",
       "      <td>10.000</td>\n",
       "      <td>30.000</td>\n",
       "      <td>0.0001</td>\n",
       "      <td>0.001</td>\n",
       "      <td>0.010</td>\n",
       "      <td>0.100</td>\n",
       "      <td>1.000</td>\n",
       "      <td>10.000</td>\n",
       "      <td>30.000</td>\n",
       "    </tr>\n",
       "    <tr>\n",
       "      <th>cv_accuracy</th>\n",
       "      <td>0.1140</td>\n",
       "      <td>0.114</td>\n",
       "      <td>0.114</td>\n",
       "      <td>0.813</td>\n",
       "      <td>0.873</td>\n",
       "      <td>0.873</td>\n",
       "      <td>0.873</td>\n",
       "      <td>0.1140</td>\n",
       "      <td>0.114</td>\n",
       "      <td>0.114</td>\n",
       "      <td>...</td>\n",
       "      <td>0.681</td>\n",
       "      <td>0.681</td>\n",
       "      <td>0.681</td>\n",
       "      <td>0.1140</td>\n",
       "      <td>0.114</td>\n",
       "      <td>0.497</td>\n",
       "      <td>0.576</td>\n",
       "      <td>0.576</td>\n",
       "      <td>0.576</td>\n",
       "      <td>0.576</td>\n",
       "    </tr>\n",
       "  </tbody>\n",
       "</table>\n",
       "<p>4 rows × 168 columns</p>\n",
       "</div>"
      ],
      "text/plain": [
       "                0      1      2      3      4       5       6       7    \\\n",
       "C            0.0010  0.001  0.001  0.001  0.001   0.001   0.001  0.0010   \n",
       "degree       3.0000  3.000  3.000  3.000  3.000   3.000   3.000  5.0000   \n",
       "gamma        0.0001  0.001  0.010  0.100  1.000  10.000  30.000  0.0001   \n",
       "cv_accuracy  0.1140  0.114  0.114  0.813  0.873   0.873   0.873  0.1140   \n",
       "\n",
       "               8      9    ...      158      159      160       161      162  \\\n",
       "C            0.001  0.001  ...  100.000  100.000  100.000  100.0000  100.000   \n",
       "degree       5.000  5.000  ...    7.000    7.000    7.000   10.0000   10.000   \n",
       "gamma        0.001  0.010  ...    1.000   10.000   30.000    0.0001    0.001   \n",
       "cv_accuracy  0.114  0.114  ...    0.681    0.681    0.681    0.1140    0.114   \n",
       "\n",
       "                 163      164      165      166      167  \n",
       "C            100.000  100.000  100.000  100.000  100.000  \n",
       "degree        10.000   10.000   10.000   10.000   10.000  \n",
       "gamma          0.010    0.100    1.000   10.000   30.000  \n",
       "cv_accuracy    0.497    0.576    0.576    0.576    0.576  \n",
       "\n",
       "[4 rows x 168 columns]"
      ]
     },
     "execution_count": 19,
     "metadata": {},
     "output_type": "execute_result"
    }
   ],
   "source": [
    "res = pd.DataFrame(grid_poly.cv_results_['params'])\n",
    "res['cv_accuracy'] = grid_poly.cv_results_['mean_test_score']\n",
    "res.transpose()"
   ]
  },
  {
   "cell_type": "code",
   "execution_count": 20,
   "id": "31f0e575",
   "metadata": {},
   "outputs": [
    {
     "data": {
      "text/plain": [
       "{'C': 0.001, 'degree': 3, 'gamma': 1.0}"
      ]
     },
     "execution_count": 20,
     "metadata": {},
     "output_type": "execute_result"
    }
   ],
   "source": [
    "grid_poly.best_params_"
   ]
  },
  {
   "cell_type": "code",
   "execution_count": 21,
   "id": "e904c8cc",
   "metadata": {},
   "outputs": [
    {
     "data": {
      "text/plain": [
       "0.873"
      ]
     },
     "execution_count": 21,
     "metadata": {},
     "output_type": "execute_result"
    }
   ],
   "source": [
    "grid_poly.best_score_"
   ]
  },
  {
   "cell_type": "markdown",
   "id": "eecbcc7f",
   "metadata": {},
   "source": [
    "The best SVM with polynomial kernel achieves 0.873 accuracy and the corresponding parameters are `C = 0.001` and `gamma = 1.0`."
   ]
  },
  {
   "cell_type": "code",
   "execution_count": 22,
   "id": "a8d8f224",
   "metadata": {},
   "outputs": [
    {
     "data": {
      "text/plain": [
       "0.119"
      ]
     },
     "execution_count": 22,
     "metadata": {},
     "output_type": "execute_result"
    }
   ],
   "source": [
    "svm_poly_best = grid_poly.best_estimator_\n",
    "y_pred = svm_poly_best.predict(x_test_small)\n",
    "svm_poly_error = np.mean(y_pred!=y_test_small)\n",
    "svm_poly_error"
   ]
  },
  {
   "cell_type": "markdown",
   "id": "df212506",
   "metadata": {},
   "source": [
    "The test error of the best poly kernel SVM is 0.119."
   ]
  },
  {
   "cell_type": "markdown",
   "id": "8b063dcd",
   "metadata": {},
   "source": [
    "#### Summary"
   ]
  },
  {
   "cell_type": "code",
   "execution_count": 57,
   "id": "b0f8ab21",
   "metadata": {},
   "outputs": [
    {
     "data": {
      "text/html": [
       "<div>\n",
       "<style scoped>\n",
       "    .dataframe tbody tr th:only-of-type {\n",
       "        vertical-align: middle;\n",
       "    }\n",
       "\n",
       "    .dataframe tbody tr th {\n",
       "        vertical-align: top;\n",
       "    }\n",
       "\n",
       "    .dataframe thead th {\n",
       "        text-align: right;\n",
       "    }\n",
       "</style>\n",
       "<table border=\"1\" class=\"dataframe\">\n",
       "  <thead>\n",
       "    <tr style=\"text-align: right;\">\n",
       "      <th></th>\n",
       "      <th>Model</th>\n",
       "      <th>cost</th>\n",
       "      <th>gamma</th>\n",
       "      <th>degree</th>\n",
       "      <th>cv score</th>\n",
       "      <th>test score</th>\n",
       "    </tr>\n",
       "  </thead>\n",
       "  <tbody>\n",
       "    <tr>\n",
       "      <th>0</th>\n",
       "      <td>SVM(linear kernel)</td>\n",
       "      <td>0.10</td>\n",
       "      <td>0.0001</td>\n",
       "      <td>NaN</td>\n",
       "      <td>0.878</td>\n",
       "      <td>0.887667</td>\n",
       "    </tr>\n",
       "    <tr>\n",
       "      <th>1</th>\n",
       "      <td>SVM(radial kernel)</td>\n",
       "      <td>10.00</td>\n",
       "      <td>0.0100</td>\n",
       "      <td>NaN</td>\n",
       "      <td>0.917</td>\n",
       "      <td>0.921167</td>\n",
       "    </tr>\n",
       "    <tr>\n",
       "      <th>2</th>\n",
       "      <td>SVM(polynomial kernel)</td>\n",
       "      <td>0.01</td>\n",
       "      <td>1.0000</td>\n",
       "      <td>3.0</td>\n",
       "      <td>0.873</td>\n",
       "      <td>0.881000</td>\n",
       "    </tr>\n",
       "  </tbody>\n",
       "</table>\n",
       "</div>"
      ],
      "text/plain": [
       "                    Model   cost   gamma  degree  cv score  test score\n",
       "0      SVM(linear kernel)   0.10  0.0001     NaN     0.878    0.887667\n",
       "1      SVM(radial kernel)  10.00  0.0100     NaN     0.917    0.921167\n",
       "2  SVM(polynomial kernel)   0.01  1.0000     3.0     0.873    0.881000"
      ]
     },
     "execution_count": 57,
     "metadata": {},
     "output_type": "execute_result"
    }
   ],
   "source": [
    "summary = pd.DataFrame({'Model':['SVM(linear kernel)', 'SVM(radial kernel)', 'SVM(polynomial kernel)'],\n",
    "                        'cost':[0.1, 10, 0.01], 'gamma':[0.0001, 0.01, 1.0], 'degree':[np.nan, np.nan, 3],\n",
    "                        'cv score': [grid_linear.best_score_, grid_rbf.best_score_, grid_poly.best_score_],\n",
    "                        'test score': [1-svm_linear_error, 1-svm_rbf_error, 1-svm_poly_error]\n",
    "                       })\n",
    "summary"
   ]
  },
  {
   "cell_type": "markdown",
   "id": "ddc8857f",
   "metadata": {},
   "source": [
    "We can see that the SVM with raidal kernel performs best among three kernels, which gives a 0.917 cross-validation accuracy and 0.921 test accuracy."
   ]
  },
  {
   "cell_type": "markdown",
   "id": "e42b4a3f",
   "metadata": {},
   "source": [
    "### 2.1. MLP"
   ]
  },
  {
   "cell_type": "code",
   "execution_count": 24,
   "id": "25b75cca",
   "metadata": {},
   "outputs": [],
   "source": [
    "from tensorflow import keras\n",
    "from tensorflow.keras.layers import Activation, Dense, Input\n",
    "from tensorflow.keras import utils \n",
    "from tensorflow.keras import Sequential\n",
    "from tensorflow.keras.optimizers import Adam, SGD\n",
    "from tensorflow.keras.losses import sparse_categorical_crossentropy\n",
    "from scikeras.wrappers import KerasClassifier"
   ]
  },
  {
   "cell_type": "code",
   "execution_count": 25,
   "id": "17357158",
   "metadata": {},
   "outputs": [],
   "source": [
    "def create_mlp(hid_layer_n, lr, opt, acti):\n",
    "    model = Sequential()\n",
    "    model.add(Input(shape=(784, )))\n",
    "    model.add(Dense(hid_layer_n, activation = acti))\n",
    "    model.add(Dense(10, activation = 'softmax'))\n",
    "    model.compile(optimizer=opt(learning_rate=lr), loss=sparse_categorical_crossentropy, metrics=['accuracy'])\n",
    "    return model"
   ]
  },
  {
   "cell_type": "code",
   "execution_count": 26,
   "id": "13bcc49e",
   "metadata": {},
   "outputs": [],
   "source": [
    "# parameters\n",
    "actis = ['relu', 'tanh', 'sigmoid']\n",
    "hidden_ns = [32, 64, 128, 256]\n",
    "lrs = [0.001, 0.01, 0.1]\n",
    "opts = [Adam, SGD]\n",
    "grid_mlp = [(a, hn, lr, opt) for a in actis for hn in hidden_ns for lr in lrs for opt in opts]"
   ]
  },
  {
   "cell_type": "code",
   "execution_count": null,
   "id": "f642359d",
   "metadata": {},
   "outputs": [],
   "source": [
    "from sklearn.model_selection import cross_val_score\n",
    "\n",
    "mlp_res = dict()\n",
    "count = 0\n",
    "for g in grid_mlp:\n",
    "    count += 1\n",
    "    print(count)\n",
    "    mlp = KerasClassifier(create_mlp(g[1], g[2], g[3], g[0]),\n",
    "                          epochs=10,\n",
    "                          batch_size=50,\n",
    "                          verbose=1\n",
    "                         )\n",
    "    cv_score = np.mean(cross_val_score(mlp, x_train, y_train, cv = 5))\n",
    "    mlp_res[g] = cv_score"
   ]
  },
  {
   "cell_type": "markdown",
   "id": "fdde8107",
   "metadata": {},
   "source": [
    "_The output showing the training process of the MLP is too long to show in the exported html file. So I clear the output of this cell._"
   ]
  },
  {
   "cell_type": "code",
   "execution_count": 36,
   "id": "6a500891",
   "metadata": {},
   "outputs": [
    {
     "data": {
      "text/plain": [
       "(('sigmoid', 256, 0.01, keras.optimizer_v2.adam.Adam), 0.9558)"
      ]
     },
     "execution_count": 36,
     "metadata": {},
     "output_type": "execute_result"
    }
   ],
   "source": [
    "# best MLP\n",
    "mlp_res_sort = [(k, v) for k, v in sorted(mlp_res.items(), key=lambda item: -item[1])]\n",
    "mlp_res_sort[0]"
   ]
  },
  {
   "cell_type": "markdown",
   "id": "b9b3def5",
   "metadata": {},
   "source": [
    "We can see that the best parameters are sigmoid activation function, 256 neurons in the hidden layer and Adam optimizer with 0.01 learning rate. This group of parameters achieves 0.9558 accuracy in the 5-fold cross validation."
   ]
  },
  {
   "cell_type": "code",
   "execution_count": 50,
   "id": "ef82e25c",
   "metadata": {},
   "outputs": [
    {
     "name": "stderr",
     "output_type": "stream",
     "text": [
      "2022-03-25 21:46:07.552030: I tensorflow/core/grappler/optimizers/custom_graph_optimizer_registry.cc:113] Plugin optimizer for device_type GPU is enabled.\n",
      "2022-03-25 21:46:13.819626: I tensorflow/core/grappler/optimizers/custom_graph_optimizer_registry.cc:113] Plugin optimizer for device_type GPU is enabled.\n"
     ]
    }
   ],
   "source": [
    "mlp_best = KerasClassifier(create_mlp(256, 0.01, Adam, 'sigmoid'), epochs=10, batch_size=50, verbose=0)\n",
    "mlp_best.fit(x_train, y_train)\n",
    "y_pred = mlp_best.predict(x_test)"
   ]
  },
  {
   "cell_type": "code",
   "execution_count": 52,
   "id": "6e96337a",
   "metadata": {},
   "outputs": [
    {
     "data": {
      "text/plain": [
       "0.042616666666666664"
      ]
     },
     "execution_count": 52,
     "metadata": {},
     "output_type": "execute_result"
    }
   ],
   "source": [
    "mlp_error = np.mean(y_pred!=y_test)\n",
    "mlp_error"
   ]
  },
  {
   "cell_type": "markdown",
   "id": "7793a93b",
   "metadata": {},
   "source": [
    "The best MLP model gives a 0.9574 test accuracy."
   ]
  },
  {
   "cell_type": "markdown",
   "id": "64a7a69b",
   "metadata": {},
   "source": [
    "### 2.2 CNN"
   ]
  },
  {
   "cell_type": "code",
   "execution_count": 37,
   "id": "afbe4fce",
   "metadata": {},
   "outputs": [],
   "source": [
    "from tensorflow.keras.layers import Conv2D, Flatten, Dropout, MaxPooling2D\n",
    "from tensorflow.keras.optimizers import Adadelta"
   ]
  },
  {
   "cell_type": "code",
   "execution_count": 38,
   "id": "fdba75da",
   "metadata": {},
   "outputs": [],
   "source": [
    "x_train = np.array(mnist['x_train'])\n",
    "x_test = np.array(mnist['x_test'])\n",
    "# rescale\n",
    "x_train = x_train/255.0\n",
    "x_test = x_test/255.0"
   ]
  },
  {
   "cell_type": "code",
   "execution_count": 39,
   "id": "483ed11d",
   "metadata": {},
   "outputs": [],
   "source": [
    "def create_cnn(num_cnn_layers, drop_out, max_neuron, opt, acti):\n",
    "    NUM_FILTERS = 32\n",
    "    KERNEL = (3,3)\n",
    "    \n",
    "    model = Sequential()\n",
    "    model.add(Input(shape=(28, 28, 1)))\n",
    "    for i in range(1, num_cnn_layers+1):\n",
    "        model.add(Conv2D(NUM_FILTERS*i, kernel_size = KERNEL, activation = 'relu', padding = 'same'))\n",
    "    \n",
    "    model.add(MaxPooling2D(pool_size = (2,2)))\n",
    "    model.add(Dropout(drop_out))\n",
    "    model.add(Flatten())\n",
    "    model.add(Dense(max_neuron, activation = acti))\n",
    "    model.add(Dense(10, activation = 'softmax'))\n",
    "    \n",
    "    model.compile(optimizer=opt(learning_rate = 0.001), loss=sparse_categorical_crossentropy, metrics=['accuracy'])\n",
    "    \n",
    "    return model"
   ]
  },
  {
   "cell_type": "code",
   "execution_count": 40,
   "id": "e8ab8b3b",
   "metadata": {},
   "outputs": [],
   "source": [
    "num_cnn_layerss = [1, 2]\n",
    "drop_outs = [0.25, 0.5]\n",
    "max_neurons = [120, 240]\n",
    "opts = [Adam, Adadelta]\n",
    "actis = ['relu', 'sigmoid']\n",
    "grid_cnn = [(nc, do, mn, opt, ac) for nc in num_cnn_layerss for do in drop_outs for mn in max_neurons \n",
    "                                  for opt in opts for ac in actis]"
   ]
  },
  {
   "cell_type": "code",
   "execution_count": null,
   "id": "b3e10cb8",
   "metadata": {},
   "outputs": [],
   "source": [
    "cnn_res = dict()\n",
    "count = 0\n",
    "for g in grid_cnn:\n",
    "    count += 1\n",
    "    print(\"^^^^^^^^^^^^^^^^^^^^^^^^^^^^^^^\")\n",
    "    print(count)\n",
    "    print(\"^^^^^^^^^^^^^^^^^^^^^^^^^^^^^^^\")\n",
    "    cnn = KerasClassifier(create_cnn(g[0], g[1], g[2], g[3], g[4]),\n",
    "                          epochs=10,\n",
    "                          batch_size=50,\n",
    "                          verbose=1\n",
    "                         )\n",
    "    cv_score = np.mean(cross_val_score(cnn, x_train, y_train, cv = 5))\n",
    "    cnn_res[g] = cv_score"
   ]
  },
  {
   "cell_type": "markdown",
   "id": "c47b2e8a",
   "metadata": {},
   "source": [
    "_The output showing the training process of the CNN is too long to show in the exported html file. So I clear the output of this cell._"
   ]
  },
  {
   "cell_type": "code",
   "execution_count": 43,
   "id": "2319325d",
   "metadata": {},
   "outputs": [
    {
     "data": {
      "text/plain": [
       "((2, 0.25, 240, keras.optimizer_v2.adam.Adam, 'sigmoid'), 0.9792)"
      ]
     },
     "execution_count": 43,
     "metadata": {},
     "output_type": "execute_result"
    }
   ],
   "source": [
    "# best CNN\n",
    "cnn_res_sort = [(k, v) for k, v in sorted(cnn_res.items(), key=lambda item: -item[1])]\n",
    "cnn_res_sort[0]"
   ]
  },
  {
   "cell_type": "markdown",
   "id": "273954ce",
   "metadata": {},
   "source": [
    "We can see that the best parameters are 2 convolution layers, 0.25 drop rate, 240 neurons in the dense layer with sigmoid activation function after flatten, and Adam optimizer. This group of parameters achieves 0.9792 accuracy in the 5-fold cross validation."
   ]
  },
  {
   "cell_type": "code",
   "execution_count": 45,
   "id": "6246ccd8",
   "metadata": {},
   "outputs": [
    {
     "name": "stderr",
     "output_type": "stream",
     "text": [
      "2022-03-25 21:43:35.178056: I tensorflow/core/grappler/optimizers/custom_graph_optimizer_registry.cc:113] Plugin optimizer for device_type GPU is enabled.\n",
      "2022-03-25 21:44:02.099014: I tensorflow/core/grappler/optimizers/custom_graph_optimizer_registry.cc:113] Plugin optimizer for device_type GPU is enabled.\n"
     ]
    }
   ],
   "source": [
    "cnn_best = KerasClassifier(create_cnn(2, 0.25, 240, Adam, 'sigmoid'), epochs=10, batch_size=50, verbose=0)\n",
    "cnn_best.fit(x_train, y_train)\n",
    "y_pred = cnn_best.predict(x_test)"
   ]
  },
  {
   "cell_type": "code",
   "execution_count": 48,
   "id": "c09ea594",
   "metadata": {},
   "outputs": [
    {
     "data": {
      "text/plain": [
       "0.0266"
      ]
     },
     "execution_count": 48,
     "metadata": {},
     "output_type": "execute_result"
    }
   ],
   "source": [
    "cnn_error = np.mean(y_pred!=y_test)\n",
    "cnn_error"
   ]
  },
  {
   "cell_type": "markdown",
   "id": "f5f56f91",
   "metadata": {},
   "source": [
    "The best CNN model achieves a 0.9734 test accuracy."
   ]
  },
  {
   "cell_type": "markdown",
   "id": "84199954",
   "metadata": {},
   "source": [
    "### Summary"
   ]
  },
  {
   "cell_type": "code",
   "execution_count": 58,
   "id": "f8ed91b1",
   "metadata": {},
   "outputs": [
    {
     "data": {
      "text/html": [
       "<div>\n",
       "<style scoped>\n",
       "    .dataframe tbody tr th:only-of-type {\n",
       "        vertical-align: middle;\n",
       "    }\n",
       "\n",
       "    .dataframe tbody tr th {\n",
       "        vertical-align: top;\n",
       "    }\n",
       "\n",
       "    .dataframe thead th {\n",
       "        text-align: right;\n",
       "    }\n",
       "</style>\n",
       "<table border=\"1\" class=\"dataframe\">\n",
       "  <thead>\n",
       "    <tr style=\"text-align: right;\">\n",
       "      <th></th>\n",
       "      <th>Model</th>\n",
       "      <th>cost</th>\n",
       "      <th>gamma</th>\n",
       "      <th>degree</th>\n",
       "      <th>cv score</th>\n",
       "      <th>test score</th>\n",
       "    </tr>\n",
       "  </thead>\n",
       "  <tbody>\n",
       "    <tr>\n",
       "      <th>0</th>\n",
       "      <td>SVM(linear kernel)</td>\n",
       "      <td>0.10</td>\n",
       "      <td>0.0001</td>\n",
       "      <td>NaN</td>\n",
       "      <td>0.8780</td>\n",
       "      <td>0.887667</td>\n",
       "    </tr>\n",
       "    <tr>\n",
       "      <th>1</th>\n",
       "      <td>SVM(radial kernel)</td>\n",
       "      <td>10.00</td>\n",
       "      <td>0.0100</td>\n",
       "      <td>NaN</td>\n",
       "      <td>0.9170</td>\n",
       "      <td>0.921167</td>\n",
       "    </tr>\n",
       "    <tr>\n",
       "      <th>2</th>\n",
       "      <td>SVM(polynomial kernel)</td>\n",
       "      <td>0.01</td>\n",
       "      <td>1.0000</td>\n",
       "      <td>3.0</td>\n",
       "      <td>0.8730</td>\n",
       "      <td>0.881000</td>\n",
       "    </tr>\n",
       "    <tr>\n",
       "      <th>3</th>\n",
       "      <td>MLP</td>\n",
       "      <td>NaN</td>\n",
       "      <td>NaN</td>\n",
       "      <td>NaN</td>\n",
       "      <td>0.9558</td>\n",
       "      <td>0.957383</td>\n",
       "    </tr>\n",
       "    <tr>\n",
       "      <th>4</th>\n",
       "      <td>CNN</td>\n",
       "      <td>NaN</td>\n",
       "      <td>NaN</td>\n",
       "      <td>NaN</td>\n",
       "      <td>0.9792</td>\n",
       "      <td>0.973400</td>\n",
       "    </tr>\n",
       "  </tbody>\n",
       "</table>\n",
       "</div>"
      ],
      "text/plain": [
       "                    Model   cost   gamma  degree  cv score  test score\n",
       "0      SVM(linear kernel)   0.10  0.0001     NaN    0.8780    0.887667\n",
       "1      SVM(radial kernel)  10.00  0.0100     NaN    0.9170    0.921167\n",
       "2  SVM(polynomial kernel)   0.01  1.0000     3.0    0.8730    0.881000\n",
       "3                     MLP    NaN     NaN     NaN    0.9558    0.957383\n",
       "4                     CNN    NaN     NaN     NaN    0.9792    0.973400"
      ]
     },
     "execution_count": 58,
     "metadata": {},
     "output_type": "execute_result"
    }
   ],
   "source": [
    "nn_summary = pd.DataFrame({'Model': ['MLP', 'CNN'], \n",
    "                            'cv score': [mlp_res_sort[0][1], cnn_res_sort[0][1]], \n",
    "                            'test score': [1-mlp_error, 1-cnn_error]})\n",
    "pd.concat([summary, nn_summary], ignore_index=True)"
   ]
  },
  {
   "cell_type": "markdown",
   "id": "3b6668ac",
   "metadata": {},
   "source": [
    "It can be found that NN performs better than SVM in terms of both cv accuracy and test accuracy. And among three SVM models, SVM with raidal kernel performs best with 0.92 test accuracy; for NN models, CNN perform better than MLP. CNN performs best among five models, giving 0.97 test accuracy."
   ]
  }
 ],
 "metadata": {
  "kernelspec": {
   "display_name": "Python 3 (ipykernel)",
   "language": "python",
   "name": "python3"
  },
  "language_info": {
   "codemirror_mode": {
    "name": "ipython",
    "version": 3
   },
   "file_extension": ".py",
   "mimetype": "text/x-python",
   "name": "python",
   "nbconvert_exporter": "python",
   "pygments_lexer": "ipython3",
   "version": "3.9.0"
  }
 },
 "nbformat": 4,
 "nbformat_minor": 5
}
